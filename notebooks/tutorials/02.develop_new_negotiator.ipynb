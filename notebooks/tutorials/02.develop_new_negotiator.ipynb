{
 "cells": [
  {
   "cell_type": "code",
   "execution_count": 1,
   "metadata": {
    "tags": [
     "remove_cell"
    ]
   },
   "outputs": [
    {
     "data": {
      "text/html": [
       "<style>.container { width:95% !important; }</style>"
      ],
      "text/plain": [
       "<IPython.core.display.HTML object>"
      ]
     },
     "metadata": {},
     "output_type": "display_data"
    }
   ],
   "source": [
    "%matplotlib inline\n",
    "import warnings\n",
    "warnings.filterwarnings('ignore')\n",
    "# setup disply parameters\n",
    "import pandas as pd\n",
    "import numpy as np\n",
    "import math\n",
    "from matplotlib import pylab as plt\n",
    "from matplotlib.ticker import StrMethodFormatter\n",
    "\n",
    "float_formatter = StrMethodFormatter('{x:0.03f}')\n",
    "from IPython.core.display import display, HTML\n",
    "display(HTML(\"<style>.container { width:95% !important; }</style>\"))\n",
    "SMALL_SIZE = 14\n",
    "MEDIUM_SIZE = 16\n",
    "BIGGER_SIZE = 20\n",
    "\n",
    "plt.rc('font', size=SMALL_SIZE)          # controls default text sizes\n",
    "plt.rc('axes', titlesize=SMALL_SIZE)     # fontsize of the axes title\n",
    "plt.rc('axes', labelsize=MEDIUM_SIZE)    # fontsize of the x and y labels\n",
    "plt.rc('xtick', labelsize=SMALL_SIZE)    # fontsize of the tick labels\n",
    "plt.rc('ytick', labelsize=SMALL_SIZE)    # fontsize of the tick labels\n",
    "plt.rc('legend', fontsize=SMALL_SIZE)    # legend fontsize\n",
    "plt.rc('figure', titlesize=BIGGER_SIZE)  # fontsize of the figure title\n",
    "plt.rc('figure', figsize=(18, 6)) # set figure size"
   ]
  },
  {
   "cell_type": "code",
   "execution_count": 2,
   "metadata": {
    "tags": [
     "remove_cell"
    ]
   },
   "outputs": [
    {
     "ename": "ImportError",
     "evalue": "cannot import name 'StationaryUtilityFunction' from 'negmas.preferences.ufun' (/Users/yasser/code/projects/negmas/negmas/preferences/ufun.py)",
     "output_type": "error",
     "traceback": [
      "\u001b[0;31m---------------------------------------------------------------------------\u001b[0m",
      "\u001b[0;31mImportError\u001b[0m                               Traceback (most recent call last)",
      "\u001b[0;32m/var/folders/zr/p1v4wpjn6cq7yz5y1x6wjydh0000gn/T/ipykernel_83241/1163507466.py\u001b[0m in \u001b[0;36m<module>\u001b[0;34m\u001b[0m\n\u001b[1;32m      2\u001b[0m \u001b[0mrandom\u001b[0m\u001b[0;34m.\u001b[0m\u001b[0mseed\u001b[0m\u001b[0;34m(\u001b[0m\u001b[0;36m0\u001b[0m\u001b[0;34m)\u001b[0m \u001b[0;31m# for reproducibility\u001b[0m\u001b[0;34m\u001b[0m\u001b[0;34m\u001b[0m\u001b[0m\n\u001b[1;32m      3\u001b[0m \u001b[0;32mfrom\u001b[0m \u001b[0mpprint\u001b[0m \u001b[0;32mimport\u001b[0m \u001b[0mpprint\u001b[0m \u001b[0;31m# for printing\u001b[0m\u001b[0;34m\u001b[0m\u001b[0;34m\u001b[0m\u001b[0m\n\u001b[0;32m----> 4\u001b[0;31m \u001b[0;32mfrom\u001b[0m \u001b[0mnegmas\u001b[0m \u001b[0;32mimport\u001b[0m \u001b[0mResponseType\u001b[0m\u001b[0;34m\u001b[0m\u001b[0;34m\u001b[0m\u001b[0m\n\u001b[0m\u001b[1;32m      5\u001b[0m \u001b[0;32mfrom\u001b[0m \u001b[0mnegmas\u001b[0m \u001b[0;32mimport\u001b[0m \u001b[0mPreferencesChange\u001b[0m\u001b[0;34m\u001b[0m\u001b[0;34m\u001b[0m\u001b[0m\n\u001b[1;32m      6\u001b[0m \u001b[0;32mfrom\u001b[0m \u001b[0mnegmas\u001b[0m\u001b[0;34m.\u001b[0m\u001b[0msao\u001b[0m \u001b[0;32mimport\u001b[0m \u001b[0mSAOMechanism\u001b[0m\u001b[0;34m,\u001b[0m \u001b[0mAspirationNegotiator\u001b[0m\u001b[0;34m,\u001b[0m \u001b[0mSAONegotiator\u001b[0m\u001b[0;34m\u001b[0m\u001b[0;34m\u001b[0m\u001b[0m\n",
      "\u001b[0;32m~/code/projects/negmas/negmas/__init__.py\u001b[0m in \u001b[0;36m<module>\u001b[0;34m\u001b[0m\n\u001b[1;32m     11\u001b[0m \u001b[0;32mfrom\u001b[0m \u001b[0;34m.\u001b[0m\u001b[0mtypes\u001b[0m \u001b[0;32mimport\u001b[0m \u001b[0;34m*\u001b[0m\u001b[0;34m\u001b[0m\u001b[0;34m\u001b[0m\u001b[0m\n\u001b[1;32m     12\u001b[0m \u001b[0;32mfrom\u001b[0m \u001b[0;34m.\u001b[0m\u001b[0mconfig\u001b[0m \u001b[0;32mimport\u001b[0m \u001b[0;34m*\u001b[0m\u001b[0;34m\u001b[0m\u001b[0;34m\u001b[0m\u001b[0m\n\u001b[0;32m---> 13\u001b[0;31m \u001b[0;32mfrom\u001b[0m \u001b[0;34m.\u001b[0m\u001b[0mgenius\u001b[0m \u001b[0;32mimport\u001b[0m \u001b[0;34m*\u001b[0m\u001b[0;34m\u001b[0m\u001b[0;34m\u001b[0m\u001b[0m\n\u001b[0m\u001b[1;32m     14\u001b[0m \u001b[0;32mfrom\u001b[0m \u001b[0;34m.\u001b[0m\u001b[0minout\u001b[0m \u001b[0;32mimport\u001b[0m \u001b[0;34m*\u001b[0m\u001b[0;34m\u001b[0m\u001b[0;34m\u001b[0m\u001b[0m\n\u001b[1;32m     15\u001b[0m \u001b[0;32mfrom\u001b[0m \u001b[0;34m.\u001b[0m\u001b[0mmechanisms\u001b[0m \u001b[0;32mimport\u001b[0m \u001b[0;34m*\u001b[0m\u001b[0;34m\u001b[0m\u001b[0;34m\u001b[0m\u001b[0m\n",
      "\u001b[0;32m~/code/projects/negmas/negmas/genius/__init__.py\u001b[0m in \u001b[0;36m<module>\u001b[0;34m\u001b[0m\n\u001b[1;32m      8\u001b[0m \u001b[0;32mfrom\u001b[0m \u001b[0;34m.\u001b[0m\u001b[0mcommon\u001b[0m \u001b[0;32mimport\u001b[0m \u001b[0;34m*\u001b[0m\u001b[0;34m\u001b[0m\u001b[0;34m\u001b[0m\u001b[0m\n\u001b[1;32m      9\u001b[0m \u001b[0;32mfrom\u001b[0m \u001b[0;34m.\u001b[0m\u001b[0mginfo\u001b[0m \u001b[0;32mimport\u001b[0m \u001b[0;34m*\u001b[0m\u001b[0;34m\u001b[0m\u001b[0;34m\u001b[0m\u001b[0m\n\u001b[0;32m---> 10\u001b[0;31m \u001b[0;32mfrom\u001b[0m \u001b[0;34m.\u001b[0m\u001b[0mgnegotiators\u001b[0m \u001b[0;32mimport\u001b[0m \u001b[0;34m*\u001b[0m\u001b[0;34m\u001b[0m\u001b[0;34m\u001b[0m\u001b[0m\n\u001b[0m\u001b[1;32m     11\u001b[0m \u001b[0;32mfrom\u001b[0m \u001b[0;34m.\u001b[0m\u001b[0mnegotiator\u001b[0m \u001b[0;32mimport\u001b[0m \u001b[0;34m*\u001b[0m\u001b[0;34m\u001b[0m\u001b[0;34m\u001b[0m\u001b[0m\n\u001b[1;32m     12\u001b[0m \u001b[0;34m\u001b[0m\u001b[0m\n",
      "\u001b[0;32m~/code/projects/negmas/negmas/genius/gnegotiators.py\u001b[0m in \u001b[0;36m<module>\u001b[0;34m\u001b[0m\n\u001b[1;32m      1\u001b[0m \u001b[0;32mfrom\u001b[0m \u001b[0m__future__\u001b[0m \u001b[0;32mimport\u001b[0m \u001b[0mannotations\u001b[0m\u001b[0;34m\u001b[0m\u001b[0;34m\u001b[0m\u001b[0m\n\u001b[1;32m      2\u001b[0m \u001b[0;34m\u001b[0m\u001b[0m\n\u001b[0;32m----> 3\u001b[0;31m \u001b[0;32mfrom\u001b[0m \u001b[0;34m.\u001b[0m\u001b[0mnegotiator\u001b[0m \u001b[0;32mimport\u001b[0m \u001b[0mGeniusNegotiator\u001b[0m\u001b[0;34m\u001b[0m\u001b[0;34m\u001b[0m\u001b[0m\n\u001b[0m\u001b[1;32m      4\u001b[0m \u001b[0;34m\u001b[0m\u001b[0m\n\u001b[1;32m      5\u001b[0m __all__ = [\n",
      "\u001b[0;32m~/code/projects/negmas/negmas/genius/negotiator.py\u001b[0m in \u001b[0;36m<module>\u001b[0;34m\u001b[0m\n\u001b[1;32m     18\u001b[0m \u001b[0;32mfrom\u001b[0m \u001b[0;34m.\u001b[0m\u001b[0;34m.\u001b[0m\u001b[0mcommon\u001b[0m \u001b[0;32mimport\u001b[0m \u001b[0mMechanismState\u001b[0m\u001b[0;34m,\u001b[0m \u001b[0mNegotiatorMechanismInterface\u001b[0m\u001b[0;34m\u001b[0m\u001b[0;34m\u001b[0m\u001b[0m\n\u001b[1;32m     19\u001b[0m \u001b[0;32mfrom\u001b[0m \u001b[0;34m.\u001b[0m\u001b[0;34m.\u001b[0m\u001b[0mconfig\u001b[0m \u001b[0;32mimport\u001b[0m \u001b[0mCONFIG_KEY_GENIUS_BRIDGE_JAR\u001b[0m\u001b[0;34m,\u001b[0m \u001b[0mNEGMAS_CONFIG\u001b[0m\u001b[0;34m\u001b[0m\u001b[0;34m\u001b[0m\u001b[0m\n\u001b[0;32m---> 20\u001b[0;31m \u001b[0;32mfrom\u001b[0m \u001b[0;34m.\u001b[0m\u001b[0;34m.\u001b[0m\u001b[0minout\u001b[0m \u001b[0;32mimport\u001b[0m \u001b[0mget_domain_issues\u001b[0m\u001b[0;34m\u001b[0m\u001b[0;34m\u001b[0m\u001b[0m\n\u001b[0m\u001b[1;32m     21\u001b[0m \u001b[0;32mfrom\u001b[0m \u001b[0;34m.\u001b[0m\u001b[0;34m.\u001b[0m\u001b[0mnegotiators\u001b[0m \u001b[0;32mimport\u001b[0m \u001b[0mController\u001b[0m\u001b[0;34m\u001b[0m\u001b[0;34m\u001b[0m\u001b[0m\n\u001b[1;32m     22\u001b[0m \u001b[0;32mfrom\u001b[0m \u001b[0;34m.\u001b[0m\u001b[0;34m.\u001b[0m\u001b[0moutcomes\u001b[0m \u001b[0;32mimport\u001b[0m \u001b[0mCartesianOutcomeSpace\u001b[0m\u001b[0;34m,\u001b[0m \u001b[0mOutcome\u001b[0m\u001b[0;34m,\u001b[0m \u001b[0missues_to_xml_str\u001b[0m\u001b[0;34m\u001b[0m\u001b[0;34m\u001b[0m\u001b[0m\n",
      "\u001b[0;32m~/code/projects/negmas/negmas/inout.py\u001b[0m in \u001b[0;36m<module>\u001b[0;34m\u001b[0m\n\u001b[1;32m     11\u001b[0m \u001b[0;34m\u001b[0m\u001b[0m\n\u001b[1;32m     12\u001b[0m \u001b[0;32mfrom\u001b[0m \u001b[0mnegmas\u001b[0m\u001b[0;34m.\u001b[0m\u001b[0moutcomes\u001b[0m\u001b[0;34m.\u001b[0m\u001b[0moutcome_space\u001b[0m \u001b[0;32mimport\u001b[0m \u001b[0mmake_os\u001b[0m\u001b[0;34m\u001b[0m\u001b[0;34m\u001b[0m\u001b[0m\n\u001b[0;32m---> 13\u001b[0;31m \u001b[0;32mfrom\u001b[0m \u001b[0mnegmas\u001b[0m\u001b[0;34m.\u001b[0m\u001b[0mpreferences\u001b[0m\u001b[0;34m.\u001b[0m\u001b[0mlinear\u001b[0m \u001b[0;32mimport\u001b[0m \u001b[0mLinearAdditiveUtilityFunction\u001b[0m\u001b[0;34m\u001b[0m\u001b[0;34m\u001b[0m\u001b[0m\n\u001b[0m\u001b[1;32m     14\u001b[0m \u001b[0;34m\u001b[0m\u001b[0m\n\u001b[1;32m     15\u001b[0m \u001b[0;32mfrom\u001b[0m \u001b[0;34m.\u001b[0m\u001b[0mmechanisms\u001b[0m \u001b[0;32mimport\u001b[0m \u001b[0mMechanism\u001b[0m\u001b[0;34m\u001b[0m\u001b[0;34m\u001b[0m\u001b[0m\n",
      "\u001b[0;32m~/code/projects/negmas/negmas/preferences/__init__.py\u001b[0m in \u001b[0;36m<module>\u001b[0;34m\u001b[0m\n\u001b[1;32m     27\u001b[0m \u001b[0;32mfrom\u001b[0m \u001b[0;34m.\u001b[0m\u001b[0mpreferences\u001b[0m \u001b[0;32mimport\u001b[0m \u001b[0;34m*\u001b[0m\u001b[0;34m\u001b[0m\u001b[0;34m\u001b[0m\u001b[0m\n\u001b[1;32m     28\u001b[0m \u001b[0;32mfrom\u001b[0m \u001b[0;34m.\u001b[0m\u001b[0mufun\u001b[0m \u001b[0;32mimport\u001b[0m \u001b[0;34m*\u001b[0m\u001b[0;34m\u001b[0m\u001b[0;34m\u001b[0m\u001b[0m\n\u001b[0;32m---> 29\u001b[0;31m \u001b[0;32mfrom\u001b[0m \u001b[0;34m.\u001b[0m\u001b[0mcomplex\u001b[0m \u001b[0;32mimport\u001b[0m \u001b[0;34m*\u001b[0m\u001b[0;34m\u001b[0m\u001b[0;34m\u001b[0m\u001b[0m\n\u001b[0m\u001b[1;32m     30\u001b[0m \u001b[0;32mfrom\u001b[0m \u001b[0;34m.\u001b[0m\u001b[0mdiscounted\u001b[0m \u001b[0;32mimport\u001b[0m \u001b[0;34m*\u001b[0m\u001b[0;34m\u001b[0m\u001b[0;34m\u001b[0m\u001b[0m\n\u001b[1;32m     31\u001b[0m \u001b[0;32mfrom\u001b[0m \u001b[0;34m.\u001b[0m\u001b[0mmapping\u001b[0m \u001b[0;32mimport\u001b[0m \u001b[0;34m*\u001b[0m\u001b[0;34m\u001b[0m\u001b[0;34m\u001b[0m\u001b[0m\n",
      "\u001b[0;32m~/code/projects/negmas/negmas/preferences/complex.py\u001b[0m in \u001b[0;36m<module>\u001b[0;34m\u001b[0m\n\u001b[1;32m      9\u001b[0m \u001b[0;34m\u001b[0m\u001b[0m\n\u001b[1;32m     10\u001b[0m \u001b[0;32mfrom\u001b[0m \u001b[0;34m.\u001b[0m\u001b[0mbase\u001b[0m \u001b[0;32mimport\u001b[0m \u001b[0mValue\u001b[0m\u001b[0;34m\u001b[0m\u001b[0;34m\u001b[0m\u001b[0m\n\u001b[0;32m---> 11\u001b[0;31m \u001b[0;32mfrom\u001b[0m \u001b[0;34m.\u001b[0m\u001b[0mlinear\u001b[0m \u001b[0;32mimport\u001b[0m \u001b[0mLinearAdditiveUtilityFunction\u001b[0m\u001b[0;34m\u001b[0m\u001b[0;34m\u001b[0m\u001b[0m\n\u001b[0m\u001b[1;32m     12\u001b[0m \u001b[0;32mfrom\u001b[0m \u001b[0;34m.\u001b[0m\u001b[0mufun\u001b[0m \u001b[0;32mimport\u001b[0m \u001b[0mBaseUtilityFunction\u001b[0m\u001b[0;34m,\u001b[0m \u001b[0mUtilityFunction\u001b[0m\u001b[0;34m\u001b[0m\u001b[0;34m\u001b[0m\u001b[0m\n\u001b[1;32m     13\u001b[0m \u001b[0;34m\u001b[0m\u001b[0m\n",
      "\u001b[0;32m~/code/projects/negmas/negmas/preferences/linear.py\u001b[0m in \u001b[0;36m<module>\u001b[0;34m\u001b[0m\n\u001b[1;32m     26\u001b[0m \u001b[0;32mfrom\u001b[0m \u001b[0mnegmas\u001b[0m \u001b[0;32mimport\u001b[0m \u001b[0mwarnings\u001b[0m\u001b[0;34m\u001b[0m\u001b[0;34m\u001b[0m\u001b[0m\n\u001b[1;32m     27\u001b[0m \u001b[0;34m\u001b[0m\u001b[0m\n\u001b[0;32m---> 28\u001b[0;31m \u001b[0;32mfrom\u001b[0m \u001b[0;34m.\u001b[0m\u001b[0mufun\u001b[0m \u001b[0;32mimport\u001b[0m \u001b[0mStationaryUtilityFunction\u001b[0m\u001b[0;34m\u001b[0m\u001b[0;34m\u001b[0m\u001b[0m\n\u001b[0m\u001b[1;32m     29\u001b[0m \u001b[0;32mfrom\u001b[0m \u001b[0;34m.\u001b[0m\u001b[0mvalue_fun\u001b[0m \u001b[0;32mimport\u001b[0m \u001b[0mIdentityFun\u001b[0m\u001b[0;34m,\u001b[0m \u001b[0mLambdaFun\u001b[0m\u001b[0;34m,\u001b[0m \u001b[0mTableFun\u001b[0m\u001b[0;34m\u001b[0m\u001b[0;34m\u001b[0m\u001b[0m\n\u001b[1;32m     30\u001b[0m \u001b[0;34m\u001b[0m\u001b[0m\n",
      "\u001b[0;31mImportError\u001b[0m: cannot import name 'StationaryUtilityFunction' from 'negmas.preferences.ufun' (/Users/yasser/code/projects/negmas/negmas/preferences/ufun.py)"
     ]
    }
   ],
   "source": [
    "import random # for generating random ufuns\n",
    "random.seed(0) # for reproducibility\n",
    "from pprint import pprint # for printing\n",
    "from negmas import ResponseType\n",
    "from negmas import PreferencesChange\n",
    "from negmas.sao import SAOMechanism, AspirationNegotiator, SAONegotiator\n",
    "from negmas.outcomes import make_issue\n",
    "from negmas.preferences import MappingUtilityFunction, LinearAdditiveUtilityFunction as LUFun\n",
    "from negmas.preferences.value_fun import LinearFun, IdentityFun, AffineFun\n",
    "from rich import print"
   ]
  },
  {
   "cell_type": "markdown",
   "metadata": {},
   "source": [
    "## Develop a new negotiator\n",
    "In this section, we go through the process of developing a new agent for the Stacked Alternating offers Protocols. Firstly, let's look at an example from the previous tutorial in which we simulate a buyer and a seller negotiating over a deal using time-based negotiators."
   ]
  },
  {
   "cell_type": "code",
   "execution_count": null,
   "metadata": {},
   "outputs": [],
   "source": [
    "# create negotiation agenda (issues)\n",
    "issues = [\n",
    "    make_issue(name='price', values=10),\n",
    "    make_issue(name='quantity', values=(1, 11)),\n",
    "    make_issue(name='delivery_time', values=10)\n",
    "]\n",
    "\n",
    "# create the mechanism\n",
    "session = SAOMechanism(issues=issues, n_steps=20)\n",
    "\n",
    "#define ufuns\n",
    "seller_utility = LUFun(values={'price': IdentityFun() , 'quantity': LinearFun(0.2) , 'delivery_time': AffineFun(-1, bias=9)},\n",
    "                       weights = {'price': 1.0, 'quantity': 1.0, 'delivery_time': 10.0},\n",
    "                       outcome_space=session.outcome_space, reserved_value=0.0).scale_max(1.0)\n",
    "buyer_utility = LUFun(\n",
    "        values={\n",
    "            'price': AffineFun(-1, bias=9.0),\n",
    "            'quantity': LinearFun(0.2), \n",
    "            'delivery_time': IdentityFun()\n",
    "        },\n",
    "        outcome_space=session.outcome_space,\n",
    "    reserved_value=0.0\n",
    "    ).scale_max(1.0)\n",
    "\n",
    "session.add(AspirationNegotiator(name='buyer'), ufun=buyer_utility)\n",
    "session.add(AspirationNegotiator(name='seller'), ufun=seller_utility)\n",
    "session.run()\n",
    "session.plot()"
   ]
  },
  {
   "cell_type": "markdown",
   "metadata": {},
   "source": [
    "The negotiation ended with an agreement far from the pareto-front (pareto-distance = $0.31$) which does not seem like a good result. What is the problem? \n",
    "\n",
    "Looking carefully at the 2D representation of the negotiation above, we can immediately see the issue: uninformed concession. Consider the buyer agent. It started with offering the best outcome for itself (The green offers above) and repeated it for a while (as expected) then started conceding (i.e. offering outcomes with lower utility for itself. Nevertheless, when it did conceed, it did not consider its partner at all. The figure below shows the same figure focusing on one specific choice the buyer did:\n",
    "![Uninformed Concession](uninformed.png)\n",
    "\n",
    "The problem is highlighted in orange. Even though the buyer had several offers that are *of the same utility for itself*, they are not of the same utility *to its partner*. In the figure, it is clear that the buyer, chose the offer that was in fact the *worst* for its opponent. Choosing any other offer in the orange rectangle could have been better as it is nearer to the pareto-front. By offering this way, the partners are *leaving money on the table*. \n",
    "\n",
    "Could the buyer have done better? Yes. By the time it gave this offer, it already have received several offers from the seller which could have been used to *estimate* the utility of different outcomes the buyer is cosidering offering for the seller (highlighted in red).\n",
    "\n",
    "The ideas we want to implement is pretty simple:   \n",
    "**Use a time-based consession strategy but always offer the outcome nearest to the first offer of the partner**\n",
    "\n",
    "\n",
    "The intuition behind this simple strategy relies on two assumptions:\n",
    "\n",
    "1. The partner's first offer is most likely its best outcome. Most negotiators will start with the best outcome for themselves.\n",
    "2. Nearer outcomes in the outcome-space, are likely to have similar utilities (i.e. the utility function of the partner is smooth).\n",
    "\n",
    "Both of these assumptions are sometimes violated but our goal here is to develop a *simple* yet useful negotiator not to end once and for all the hunt for the most effective negotiation strategy. With that said, let's dive in.\n",
    "\n",
    "### Building a random negotiator\n",
    "\n",
    "As a first step, we will build a negotiator that acts randomly.\n",
    "\n",
    "Let's assume that we are too lazy to even read the documentation and want to learn how to develop a negotiator for the stacked alternating offers protocol. The first thing is to create a negotiator class and see what are the methods we need to override. All negotiators for the SAO mechanism should inherit from the `SAONegotiator` base class. Let's try to do that "
   ]
  },
  {
   "cell_type": "code",
   "execution_count": null,
   "metadata": {},
   "outputs": [],
   "source": [
    "class RandomNegotiator(SAONegotiator):\n",
    "    ...\n",
    "\n",
    "try:\n",
    "    RandomNegotiator()\n",
    "except Exception as e:\n",
    "    print(e)"
   ]
  },
  {
   "cell_type": "markdown",
   "metadata": {},
   "source": [
    "This is telling us that there is one (and only one) required abstract method that we need to override called `propose()`. This is the signature of this method:\n",
    "\n",
    "```python\n",
    "def proposed(self, state: SAOState) -> Outcome:\n",
    "    ...\n",
    "```\n",
    "\n",
    "It receives the negotiation `state` which has all information available to the negotiator about the current state of the negotiation and generates an outcome to *offer* to the opponent. That is it. Moreover, we should know that the negotiator always have access to a `NegotiatorMechanismInterface` object that gives it unchanging information about the negotiation (for example the number of allowed rounds, any real-time limits on the negotiation, the number of partners, etc). This interface is accessible through the `nmi` member of the negotiator. With this knowledge,  we can build our first negotiator which will simply offer randomly. "
   ]
  },
  {
   "cell_type": "code",
   "execution_count": null,
   "metadata": {},
   "outputs": [],
   "source": [
    "class RandomNegotiator(SAONegotiator):\n",
    "    def propose(self, state):\n",
    "        return self.nmi.random_outcomes(1)[0]"
   ]
  },
  {
   "cell_type": "markdown",
   "metadata": {},
   "source": [
    "Let's define a helper function for testing our negotiator that replaces the buyer and/or seller negotiators in the code sample we used above:"
   ]
  },
  {
   "cell_type": "code",
   "execution_count": null,
   "metadata": {},
   "outputs": [],
   "source": [
    "def try_negotiator(cls, replace_buyer=True, replace_seller=True, plot=True, n_steps=20):\n",
    "    buyer_cls = cls if replace_buyer else AspirationNegotiator\n",
    "    seller_cls = cls if replace_seller else AspirationNegotiator\n",
    "    \n",
    "    # create negotiation agenda (issues)\n",
    "    issues = [\n",
    "        make_issue(name='price', values=10),\n",
    "        make_issue(name='quantity', values=(1, 11)),\n",
    "        make_issue(name='delivery_time', values=10)\n",
    "    ]\n",
    "\n",
    "    # create the mechanism\n",
    "    session = SAOMechanism(issues=issues, n_steps=n_steps)\n",
    "\n",
    "    #define ufuns\n",
    "    seller_utility = LUFun(values={'price': IdentityFun() , 'quantity': LinearFun(0.2) , 'delivery_time': AffineFun(-1, bias=9)},\n",
    "                           weights = {'price': 1.0, 'quantity': 1.0, 'delivery_time': 10.0},\n",
    "                           outcome_space=session.outcome_space, reserved_value=0.0).scale_max(1.0)\n",
    "    buyer_utility = LUFun(\n",
    "            values={\n",
    "                'price': AffineFun(-1, bias=9.0),\n",
    "                'quantity': LinearFun(0.2), \n",
    "                'delivery_time': IdentityFun()\n",
    "            },\n",
    "            outcome_space=session.outcome_space,\n",
    "            reserved_value=0.0\n",
    "        ).scale_max(1.0)\n",
    "\n",
    "    session.add(buyer_cls(name='buyer'), ufun=buyer_utility)\n",
    "    session.add(seller_cls(name='seller'), ufun=seller_utility)\n",
    "    session.run()\n",
    "    if plot:\n",
    "        session.plot()\n",
    "    return session"
   ]
  },
  {
   "cell_type": "markdown",
   "metadata": {},
   "source": [
    "... and try our first attempt:"
   ]
  },
  {
   "cell_type": "code",
   "execution_count": null,
   "metadata": {},
   "outputs": [],
   "source": [
    "s = try_negotiator(RandomNegotiator)"
   ]
  },
  {
   "cell_type": "markdown",
   "metadata": {},
   "source": [
    "What just happened? It seems that the buyer offered a single offer which was **immediately** accepted by the seller. We can check that explicitly by looking at the negotiation *trace* which stores all the offers exchanged (along with the agent that offered it): "
   ]
  },
  {
   "cell_type": "code",
   "execution_count": null,
   "metadata": {},
   "outputs": [],
   "source": [
    "s.trace"
   ]
  },
  {
   "cell_type": "markdown",
   "metadata": {},
   "source": [
    "Why did this happen? To answer this question, let's try to run another negotiation but replacing only the buyer"
   ]
  },
  {
   "cell_type": "code",
   "execution_count": null,
   "metadata": {},
   "outputs": [],
   "source": [
    "s2 = try_negotiator(RandomNegotiator, replace_seller=False)"
   ]
  },
  {
   "cell_type": "markdown",
   "metadata": {},
   "source": [
    "The seller behaves as the time-based aspiration negotiator is expected to behave. It starts at its best outcome then it conceeds slowly. Our random buyer agent also seems to behave as expected, it offers outcomes all over the place. What happened in this case, is that the buyer accepted some offer from the seller. How did it decide to do so? We did not implement a way for our negotiator to make this decision.\n",
    "\n",
    "The default acceptance strategy in NegMAS is to accept an outcome **if and only if it has a utility for the negotiator better or equal to whatever offer it would hace proposed at this negotiation state**.\n",
    "\n",
    "So this is what happened, the buyer agent received some offer from the aspriation negotiator, it called our `propose` method to see what outcome would it have offered. Because our `propose` behaved randomly, it returned some outcome that has a utility less than or equal to the utility for the buyer of the seller's offer and that is why it accepted. \n",
    "\n",
    "It is clear that the default acceptance strategy in NegMAS does not make sense for our random negotiator (not that random offering makes sense in the first place :-) ). \n",
    "\n",
    "**Can you see why the first negotiation we attempted between our two random agents ended up at the first offer?**\n",
    "\n",
    "Let's test your answer by checking if it explains what happens when we repeat the process and plot a histogram of the step (round) at which the negotiation ended."
   ]
  },
  {
   "cell_type": "code",
   "execution_count": null,
   "metadata": {},
   "outputs": [],
   "source": [
    "ended_at = [try_negotiator(RandomNegotiator, plot=False).state.step for _ in range(100)]\n",
    "plt.hist(ended_at)\n",
    "plt.show()"
   ]
  },
  {
   "cell_type": "markdown",
   "metadata": {},
   "source": [
    "### Better acceptance strategy \n",
    "\n",
    "So how can we slightly improve our random negotiator. We can make it accept offers only if they are above some threshold. To do that we need to override the `respond` method which is used by the `SAOMechanism` to check if an outcome is acceptable for the negotiator. It has the following signature:\n",
    "\n",
    "```python\n",
    "def respond(self, state: SAOState, offer: Outcome) -> ResponseType:\n",
    "    ...\n",
    "```\n",
    "\n",
    "The `ResponseType` returned is an enum with different possible options. We are only interested in three of them:\n",
    "\n",
    "- ACCEPT_OFFER: Accept\n",
    "- REJECT_OFFER: Reject\n",
    "- END_NEGOTIATION: End the negotiation immediately\n",
    "\n",
    "Here is how we can add our acceptance strategy:"
   ]
  },
  {
   "cell_type": "code",
   "execution_count": null,
   "metadata": {},
   "outputs": [],
   "source": [
    "class BetterRandomNegotiator(RandomNegotiator):\n",
    "    \n",
    "    def respond(self, state, offer):\n",
    "        if self.ufun(offer) > 0.8:\n",
    "            return ResponseType.ACCEPT_OFFER\n",
    "        return ResponseType.REJECT_OFFER"
   ]
  },
  {
   "cell_type": "markdown",
   "metadata": {},
   "source": [
    "The only new thing for us here is that the negotiator can access it *own* utility function using `self.ufun`. Let's try to replace both agents with our slightly better random negotiator"
   ]
  },
  {
   "cell_type": "code",
   "execution_count": null,
   "metadata": {},
   "outputs": [],
   "source": [
    "s3 = try_negotiator(BetterRandomNegotiator)"
   ]
  },
  {
   "cell_type": "markdown",
   "metadata": {},
   "source": [
    "Now *both* agents are proposing randomly. How can we check that our *complicated* acceptance strategy is implemented correctly?\n",
    "\n",
    "We can check that the agent that accepted the final offer (the seller in this case) had a utility above *0.8*. To do that we need to know a little bit about the `state` object which we receive in both `propose` and `respond` and can access at any time on the mechanism object using the `state` property. Here is the final state of the negotiation:"
   ]
  },
  {
   "cell_type": "code",
   "execution_count": null,
   "metadata": {},
   "outputs": [],
   "source": [
    "print(s3.state)"
   ]
  },
  {
   "cell_type": "markdown",
   "metadata": {},
   "source": [
    "Some of these state variables are specific to the `SAOMechanism` but others are common to all mechanisms (i.e. available in the `MechainsmState` class which is the parent of `SAOState`). Let's check some of these first:\n",
    "\n",
    "Negotiation execution state:\n",
    "\n",
    "- **started** Did the negotiation start?\n",
    "- **running** Is the negotiation still running?\n",
    "- **waiting** Is the negotiation waiting for some response from one of the negtiators?\n",
    "- **has_errors** Does the negotiation have any exceptions?\n",
    "\n",
    "Negotiation end state:\n",
    "\n",
    "- **bronken** Did a negotiator end the negotiation (by returning `ResponseType.END_NEGOTIATION` from its `respond()` method).\n",
    "- **timedout** The negotiation timed out without agreement.\n",
    "- **agreement** The final agreement (or `None` if broken or timedout).\n",
    "\n",
    "Timing state:\n",
    "\n",
    "- **step** The current negotiation step (here it is *9* out of the *20* steps allowed)\n",
    "- **time** The real time that passed since the negotiation stareted\n",
    "- **relative_time** The fraction of teh negotiation that passed (here it is $(9+1)/(20+1=0.476...$).\n",
    "\n",
    "There are also SAO specific state variables:\n",
    "\n",
    "The most important for us are:\n",
    "\n",
    "- **current_offer** which will be the same as the agreement as the negotiation has already ended.\n",
    "- **current_proposer** The ID of the negotiator that proposed the `current_offer`.\n",
    "\n",
    "Using this information, we can confirm the utility value of the agreement for the agent that accepted it as follows:\n"
   ]
  },
  {
   "cell_type": "code",
   "execution_count": null,
   "metadata": {},
   "outputs": [],
   "source": [
    "negotiator_ids = [_.id for _ in s3.negotiators]\n",
    "acceptor = [i for i, _ in enumerate(negotiator_ids) if _ != s3.state.current_proposer][0]\n",
    "print(s3.negotiators[acceptor].ufun(s3.agreement))"
   ]
  },
  {
   "cell_type": "markdown",
   "metadata": {},
   "source": [
    "Seems OK. \n",
    "\n",
    "#### Parameterizing the Negotiator\n",
    "\n",
    "One issue with our negotiator is that the acceptance threshold is hard-coded. We can add parameters to the negotiator while keeping the default parameters of all negotiators as follows:"
   ]
  },
  {
   "cell_type": "code",
   "execution_count": null,
   "metadata": {},
   "outputs": [],
   "source": [
    "class BetterRandomNegotiator(RandomNegotiator):\n",
    "    \n",
    "    def __init__(self, *args, acceptance_threshold=0.8, **kwargs):\n",
    "        super().__init__(*args, **kwargs)\n",
    "        self._th = acceptance_threshold\n",
    "    \n",
    "    def respond(self, state, offer):\n",
    "        if self.ufun(offer) > self._th:\n",
    "            return ResponseType.ACCEPT_OFFER\n",
    "        return ResponseType.REJECT_OFFER"
   ]
  },
  {
   "cell_type": "markdown",
   "metadata": {},
   "source": [
    "### Smart Aspiration Negotiator\n",
    "\n",
    "We now turn our attention to developing our smart aspiration negotiator: *concede as AspirationNegotiator, but offer the nearest outcome at a given utility level to the opponent's first offer*\n",
    "\n",
    "To do that, we need to be able to find all outcomes above some utility threshold. To do that, we will use a class defined by NegMAS called `InverseUtilityFunction`. In general, negotiators in NegMAS should expect that the ufun may change at any time during the negotiation. Our negotiator will need to re-calculate the utility value associated with each outcome at every ufun change. It can do that in the `on_preferences_changed()` callback.\n",
    "\n",
    "Moreover, we need some way to calcualate the current utility level we are willing to accept (and to offer around). Here we can use another component from NegMAS called `AspirationMixin` which is designed exactly for that. Let's see what the negotiator looks like and then explain it:"
   ]
  },
  {
   "cell_type": "code",
   "execution_count": null,
   "metadata": {},
   "outputs": [],
   "source": [
    "from random import choice\n",
    "from negmas import AspirationMixin, PresortingInverseUtilityFunction\n",
    "\n",
    "class SmartAspirationNegotiator(SAONegotiator, AspirationMixin):\n",
    "    _inv = None           # The ufun invertor (finds outcomes in a utility range)\n",
    "    _partner_first = None # The best offer of the parter (assumed best for it)\n",
    "    _min = None           # The minimum of my utility function\n",
    "    _max = None           # The maximum of my utility function\n",
    "    _best = None          # The best outcome for me\n",
    "    \n",
    "    def __init__(self, *args, **kwargs):\n",
    "        # initialize the base SAONegoiator (MUST be done)\n",
    "        super().__init__(*args, **kwargs)\n",
    "        \n",
    "        # Initialize the aspiration mixin to start at 1.0 and concede slowly\n",
    "        AspirationMixin.aspiration_init(self, 1.0, \"boulware\")\n",
    "        \n",
    "    def on_preferences_changed(self, changes):\n",
    "        # create an initiaze an invertor for my ufun\n",
    "        changes = [_ for _ in changes if _ not in (PreferencesChange.Scaled,)]\n",
    "        if not changes:\n",
    "            return\n",
    "        self._inv = PresortingInverseUtilityFunction(self.ufun)\n",
    "        self._inv.init()\n",
    "        \n",
    "        # find worst and best outcomes for me\n",
    "        worest, self._best = self.ufun.extreme_outcomes()\n",
    "\n",
    "        # and the correponding utility values\n",
    "        self._min, self._max = self.ufun(worest), self.ufun(self._best)\n",
    "        \n",
    "        # MUST call parent to avoid being called again for no reason\n",
    "        super().on_preferences_changed(changes)\n",
    "\n",
    "    def respond(self, state, offer):\n",
    "        # set the partner's first offer when I receive it\n",
    "        if not self._partner_first:\n",
    "            self._partner_first = offer\n",
    "        \n",
    "        # accept if the offer is not worse for me than what I would have offered\n",
    "        return super().respond(state, offer)\n",
    "    \n",
    "    def propose(self, state):\n",
    "        # calculate my current aspiration level (utility level at which I will offer and accept)\n",
    "        a = (self._max - self._min) * self.aspiration(state.relative_time) + self._min\n",
    "        \n",
    "        # find some outcomes (all if the outcome space is  discrete) above the aspiration level\n",
    "        outcomes = self._inv.some((a, self._max)) \n",
    "        \n",
    "        # If there are no outcomes above the aspiration level, offer my best outcome\n",
    "        if not outcomes:\n",
    "            return self._best\n",
    "        \n",
    "        # else if I did not  recieve anything from the partner, offer any outcome above the aspiration level \n",
    "        if not self._partner_first:\n",
    "            return choice(outcomes)\n",
    "        \n",
    "        # otherwise, offer the outcome most similar to the partner's first offer (above the aspiration level)\n",
    "        nearest, ndist = None, float(\"inf\") \n",
    "        for o in outcomes:\n",
    "            d = sum((a-b) * (a-b) for a, b in zip(o, self._partner_first))\n",
    "            if d < ndist:\n",
    "                nearest, ndist = o, d\n",
    "        return nearest"
   ]
  },
  {
   "cell_type": "markdown",
   "metadata": {},
   "source": [
    "Let's look at this negotiator in details. We override four methods:\n",
    "- **__init__()** to initialize the negotiator. This method should **alwyas** call `super().__init__()` to correctly initialize the negotiator. Moreover, we initialize the aspiration mixin to slowly concede from zero.\n",
    "- **on_preferences_changed(changes)** to update the ufun inverter, my ufun's range and find out the best outcome. *You must call the parent's implementation using `super().on_preferences_changed()` to avoid unnecessary repeated calls to this method.\n",
    "- **respond()** to implement our acceptance strategy. In this case the default NegMAS strategy is OK for us (called in the last line). We only need to save the partner's first offer here to use it in our offering strategy.\n",
    "- **propose()** This is the core of the negotiator and implements its offering strategy. Let's look to it line by line:\n",
    "  \n",
    "  1. Calculate the current aspiration level which is the utility level above which we are going to offer\n",
    "  ```python\n",
    "     a = (self._max - self._min) * self.aspiration(state.relative_time) + self._min\n",
    "  ```\n",
    "  \n",
    "  2. Find outcomes above my aspiration level. Note here that we use `some()` instead of `all()` to be compatible with continuous outcome spaces \n",
    "  ```python\n",
    "    outcomes = self._inv.some((a, self._max)) \n",
    "  ```\n",
    "  \n",
    "  3. We are now ready to generate our offer. We need to consider three cases:\n",
    "    \n",
    "    - No outcomes were found above the given threshold. Here we just offer our best offer\n",
    "    ```python\n",
    "      if not outcomes:\n",
    "        return self._best\n",
    "    ```\n",
    "    - We do not know the partner's first offer (i.e. we are the first to offer in the negotiation). Here we just choose any outcome from the list `outcomes` (i.e. those above the aspiration level)\n",
    "    ```python\n",
    "      if not outcomes:\n",
    "        return self._best\n",
    "    ```\n",
    "    \n",
    "    - We have the partner's first offer. In this case, we find the distance between each of the outcomes we have (above the aspiration level) and the partner's first offer using Euclidean distance:\n",
    "    ```python\n",
    "      d = sum((a-b) * (a-b) for a, b in zip(o, self._partner_first))      \n",
    "    ```\n",
    "    \n",
    "Can you see some of the hidden assumptions in this negotiator? \n",
    "\n",
    "While you are thinking about that, let's check our new negotiator:"
   ]
  },
  {
   "cell_type": "code",
   "execution_count": null,
   "metadata": {},
   "outputs": [],
   "source": [
    "s = try_negotiator(SmartAspirationNegotiator)"
   ]
  },
  {
   "cell_type": "markdown",
   "metadata": {},
   "source": [
    "As you can see, now the agreement is on the pareto front which means no money left on the table (i.e. it is impossible to increase the utility of one partner without decreasing the utility of the other).\n",
    "\n",
    "That is a single negotiation though. Let's compare our new negotiator with `AspriationNegotiator` on multiple negotiations:"
   ]
  },
  {
   "cell_type": "code",
   "execution_count": null,
   "metadata": {},
   "outputs": [],
   "source": [
    "from collections import defaultdict\n",
    "# find the pareto-frontier (it is the same for all negotiations)\n",
    "frontier_utils, frontier_outcomes = s.pareto_frontier()\n",
    "nash_utils, nash_outcome = s.nash_point()\n",
    "nash_welfare = sum(nash_utils)\n",
    "\n",
    "# define the distance (Euclidean) to pareto frontier\n",
    "def ed(a, b):\n",
    "    return math.sqrt(sum((x-y)**2 for x, y in zip(a, b)))\n",
    "\n",
    "def pareto_dist(a, frontier):\n",
    "    # find the distance to the pareto-front (in outcome-space units)\n",
    "    return min(ed(a, b) for b in frontier)\n",
    "\n",
    "def nash_diff(a, nash_welfare):\n",
    "    # find the difference in total welfare between the agreement and nash-agreement \n",
    "    return nash_welfare - sum(_.ufun(a) for _ in s.negotiators)\n",
    "\n",
    "# collect data about distance of the agreement to the pareto frontier\n",
    "n, pdist, ndiff = 100, defaultdict(float), defaultdict(float)\n",
    "for _ in range(n):\n",
    "    for cls in (AspirationNegotiator, SmartAspirationNegotiator, RandomNegotiator):\n",
    "        a = try_negotiator(cls, plot=False).state.agreement\n",
    "        if not a:\n",
    "            continue\n",
    "        pdist[cls.__name__] += pareto_dist(a, frontier_outcomes) / n\n",
    "        ndiff[cls.__name__] += nash_diff(a, nash_welfare) / n\n",
    "  \n",
    "print(f\"{pdist=}\\n{ndiff=}\")"
   ]
  },
  {
   "cell_type": "markdown",
   "metadata": {},
   "source": [
    "It is clear that our negotiator achieved its goal. It reduces the distance to the pareto-front of the final agreement compared with vanilla `AspirationNegotiator` (`pdist`) to zero while reducing the difference in total welfare (utility sum) between the agreement and the best possible value (at the nash-point) by almost $70$%. Can you think of ways to further improve this design?\n",
    "\n",
    "\n",
    "Back to our earlie question: *Can you see some of the hidden assumptions in this negotiator?* Here are some answers:\n",
    "\n",
    "1. We implicitly assume that there is a meaningful distance measure defined over the outcome space. This is certainly not be the case if some of the outcomes are not cardinal. In our example, all outcomes are numeric but is it really meaningful to treat one day on the delivery issue as equal to one item as equal to one dollar? What can we do to avoid that? We can approximate distance over these issues by either matching (0) or mismatching (1). Moreover, we can consider the average matching score for all of the partner's offers so far instead of only the first one. Try to implement that. You will need to access the Negotiator-Mechanism-Interface (NMI) to get the negotiation issues using: `self.nmi.outcome_space`.\n",
    "2. Our aspiration mixin assumes that the minimum value for aspiration is the reserved value instead of zero which does not match the way we use it in `propose()`. In our case, reserved values *were* zero so this had no effect. In a general negotiation though, the reserved value should be taken into account.\n",
    "\n",
    "Now that you have some experience developing a negotiating agent, try to improve the design by handling these two issues."
   ]
  },
  {
   "cell_type": "code",
   "execution_count": null,
   "metadata": {},
   "outputs": [],
   "source": []
  }
 ],
 "metadata": {
  "celltoolbar": "Tags",
  "kernelspec": {
   "display_name": "Python 3 (ipykernel)",
   "language": "python",
   "name": "python3"
  },
  "language_info": {
   "codemirror_mode": {
    "name": "ipython",
    "version": 3
   },
   "file_extension": ".py",
   "mimetype": "text/x-python",
   "name": "python",
   "nbconvert_exporter": "python",
   "pygments_lexer": "ipython3",
   "version": "3.9.2"
  },
  "toc": {
   "base_numbering": 1,
   "nav_menu": {},
   "number_sections": true,
   "sideBar": true,
   "skip_h1_title": false,
   "title_cell": "Table of Contents",
   "title_sidebar": "Contents",
   "toc_cell": false,
   "toc_position": {},
   "toc_section_display": true,
   "toc_window_display": false
  }
 },
 "nbformat": 4,
 "nbformat_minor": 2
}
